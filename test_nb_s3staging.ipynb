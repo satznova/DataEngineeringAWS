{
 "cells": [
  {
   "cell_type": "markdown",
   "metadata": {},
   "source": [
    "### Push local data to Staging S3 location\n",
    "\n",
    "- Put locally data to S3 staging location\n",
    "- Data can be of any format (say json, csv, sas7bdat, etc) and can be from any location. Place a copy of this raw data in staging S3 location"
   ]
  },
  {
   "cell_type": "code",
   "execution_count": 99,
   "metadata": {},
   "outputs": [],
   "source": [
    "\"\"\" \n",
    "    Read properties using configparser\n",
    "\"\"\"\n",
    "import configparser\n",
    "import os\n",
    "\n",
    "config = configparser.ConfigParser()\n",
    "config.read('config.cfg')\n",
    "\n",
    "os.environ['AWS_ACCESS_KEY_ID']=config['AWS_ACCESS_KEYS']['AWS_ACCESS_KEY_ID']\n",
    "os.environ['AWS_SECRET_ACCESS_KEY']=config['AWS_ACCESS_KEYS']['AWS_SECRET_ACCESS_KEY']\n",
    "\n",
    "local_i94_dir = config['LOCAL_DATA_PATH']['I94_DATA_DIR']\n",
    "local_iso_location_file = config['LOCAL_DATA_PATH']['ISO_LOC_FILE']\n",
    "local_us_demography_file = config['LOCAL_DATA_PATH']['US_DEMO_FILE']"
   ]
  },
  {
   "cell_type": "code",
   "execution_count": 71,
   "metadata": {},
   "outputs": [],
   "source": [
    "import boto3\n",
    "\n",
    "from datetime import date"
   ]
  },
  {
   "cell_type": "code",
   "execution_count": 95,
   "metadata": {},
   "outputs": [
    {
     "name": "stdout",
     "output_type": "stream",
     "text": [
      "s3://dend-project-us-immigration/staging/date=2019-09-20\n"
     ]
    }
   ],
   "source": [
    "import boto3\n",
    "\n",
    "s3 = boto3.client('s3')\n",
    "#s3 = boto3.resource(\"s3\")\n",
    "\n",
    "s3_bucket=config['S3']['S3_BUCKET']\n",
    "s3_base_staging_dir=config['S3']['S3_BASE_STAGING_DIR']\n",
    "s3_today_load_dir=\"date=\"+str(date.today())\n",
    "\n",
    "# create new directoty inside staging for current day\n",
    "#s3.put_object(Bucket=s3_bucket, Key=(\"{}/{}/\".format(s3_base_staging_dir, s3_today_load_dir)))\n",
    "\n",
    "s3_staging_dir = \"s3://{}/{}/{}\".format(s3_bucket, s3_base_staging_dir, s3_today_load_dir)\n",
    "print(s3_staging_dir)"
   ]
  },
  {
   "cell_type": "code",
   "execution_count": 83,
   "metadata": {},
   "outputs": [],
   "source": [
    "bucketName = s3_bucket\n",
    "Key = \"data/IP2LOCATION_ISO3166.csv\"\n",
    "outPutname = \"{}/{}/{}\".format(s3_base_staging_dir, s3_today_load_dir, \"ISO_location_code_lookup.csv\")\n",
    "\n",
    "s3.upload_file(Key, bucketName, outPutname)"
   ]
  },
  {
   "cell_type": "code",
   "execution_count": 87,
   "metadata": {},
   "outputs": [],
   "source": [
    "# Upload ISO Location File\n",
    "\n",
    "uploadFile = local_iso_location_file\n",
    "outPutname = \"{}/{}/{}\".format(s3_base_staging_dir, s3_today_load_dir, \"ISO_location_code_lookup.csv\")\n",
    "\n",
    "#s3.upload_file(uploadFile, s3_bucket, outPutname)"
   ]
  },
  {
   "cell_type": "code",
   "execution_count": 96,
   "metadata": {},
   "outputs": [],
   "source": [
    "# Upload US demography File\n",
    "\n",
    "uploadFile = local_us_demography_file\n",
    "outPutname = \"{}/{}/{}\".format(s3_base_staging_dir, s3_today_load_dir, \"US_Demographics.csv\")\n",
    "\n",
    "s3.upload_file(uploadFile, s3_bucket, outPutname)"
   ]
  },
  {
   "cell_type": "code",
   "execution_count": 105,
   "metadata": {},
   "outputs": [],
   "source": [
    "# Upload I94 files (in SAS format)\n",
    "\n",
    "\n",
    "for filename in os.listdir(local_i94_dir):\n",
    "    if filename.endswith(\".sas7bdat\"): \n",
    "        uploadFile = os.path.join(local_i94_dir, filename)\n",
    "        outPutname = \"{}/{}\".format(s3_base_staging_dir, s3_today_load_dir + \"/i94_data/\")\n",
    "        #s3.upload_file(uploadFile, s3_bucket, outPutname)\n",
    "        continue\n",
    "    else:\n",
    "        continue"
   ]
  },
  {
   "cell_type": "code",
   "execution_count": 93,
   "metadata": {},
   "outputs": [
    {
     "name": "stdout",
     "output_type": "stream",
     "text": [
      "staging/\n",
      "staging/date=2019-09-20/\n",
      "staging/date=2019-09-20/ISO_location_code_lookup.csv\n",
      "staging/date=2019-09-20/US_Demographics.csv\n"
     ]
    }
   ],
   "source": [
    "s3 = boto3.resource(\"s3\")\n",
    "capstone_bucket = s3.Bucket(s3_bucket)\n",
    "\n",
    "for obj in capstone_bucket.objects.filter(Prefix='staging'):\n",
    "    print(obj.key)"
   ]
  },
  {
   "cell_type": "code",
   "execution_count": null,
   "metadata": {},
   "outputs": [],
   "source": []
  }
 ],
 "metadata": {
  "kernelspec": {
   "display_name": "Python 3",
   "language": "python",
   "name": "python3"
  },
  "language_info": {
   "codemirror_mode": {
    "name": "ipython",
    "version": 3
   },
   "file_extension": ".py",
   "mimetype": "text/x-python",
   "name": "python",
   "nbconvert_exporter": "python",
   "pygments_lexer": "ipython3",
   "version": "3.7.3"
  }
 },
 "nbformat": 4,
 "nbformat_minor": 2
}
